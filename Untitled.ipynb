{
 "cells": [
  {
   "cell_type": "code",
   "execution_count": 1,
   "metadata": {
    "scrolled": true
   },
   "outputs": [
    {
     "name": "stderr",
     "output_type": "stream",
     "text": [
      "/home/ek65/Scenic_Query/Scenic/src/scenic/core/errors.py:160: UserWarning: unable to install sys.excepthook to format Scenic backtraces\n",
      "  warnings.warn('unable to install sys.excepthook to format Scenic backtraces')\n"
     ]
    },
    {
     "name": "stdout",
     "output_type": "stream",
     "text": [
      "sampled label:  {'EgoCar': {'position': (207.26, 8.72), 'heading': 0.01167797486102029}, 'Vehicles': [{'position': (207.18578761887326, 15.074612713734233), 'heading': 0.01167797486102029}, {'position': (204.21070731015672, 15.039868221237322), 'heading': 0.011677974861024953}, {'position': (210.60496379589102, 15.114543582383375), 'heading': 0.07757912446900533}, {'position': (207.10362890820835, 22.109648908620958), 'heading': 0.01167797486102029}, {'position': (204.29256331637814, 22.076819862938557), 'heading': 0.011677974861024953}, {'position': (210.5502414825688, 22.14990019339427), 'heading': 0.030285594938917432}], 'Pedestrians': [], 'Objects': []}\n",
      ".........................validating :  ['obj0_position'].......................\n",
      "validateLabelElement() attribute_name:  obj0_position\n",
      "attr_label:  (207.26 @ 8.72)\n",
      "correspondence:  [0, 1, 2, 3, 4, 5]\n",
      ".........................VALID ATTRIBUTE(S):  ['obj0_position'].......................\n",
      ".........................validating :  ['obj0_heading'].......................\n",
      "validateLabelElement() attribute_name:  obj0_heading\n",
      "attr_label:  0.01167797486102029\n",
      "correspondence:  [0, 1, 2, 3, 4, 5]\n",
      ".........................VALID ATTRIBUTE(S):  ['obj0_heading'].......................\n",
      ".........................validating :  ['obj1_position'].......................\n",
      "validateLabelElement() attribute_name:  obj1_position\n",
      "attr_label:  (207.18578761887326 @ 15.074612713734233)\n",
      "correspondence:  [0, 1, 2, 3, 4, 5]\n",
      ".........................VALID ATTRIBUTE(S):  ['obj1_position'].......................\n",
      ".........................validating :  ['obj1_heading'].......................\n",
      "validateLabelElement() attribute_name:  obj1_heading\n",
      "attr_label:  0.01167797486102029\n",
      "correspondence:  [0, 1, 2, 3, 4, 5]\n",
      ".........................VALID ATTRIBUTE(S):  ['obj1_heading'].......................\n",
      ".........................validating :  ['obj2_position'].......................\n",
      "validateLabelElement() attribute_name:  obj2_position\n",
      "attr_label:  (204.21070731015672 @ 15.039868221237322)\n",
      "correspondence:  [0, 1, 2, 3, 4, 5]\n",
      ".........................VALID ATTRIBUTE(S):  ['obj2_position'].......................\n",
      ".........................validating :  ['obj2_heading'].......................\n",
      "validateLabelElement() attribute_name:  obj2_heading\n",
      "attr_label:  0.011677974861024953\n",
      "correspondence:  [0, 1, 2, 3, 4, 5]\n",
      ".........................VALID ATTRIBUTE(S):  ['obj2_heading'].......................\n",
      ".........................validating :  ['obj3_position'].......................\n",
      "validateLabelElement() attribute_name:  obj3_position\n",
      "attr_label:  (210.60496379589102 @ 15.114543582383375)\n",
      "correspondence:  [0, 1, 2, 3, 4, 5]\n",
      ".........................VALID ATTRIBUTE(S):  ['obj3_position'].......................\n",
      ".........................validating :  ['obj3_heading'].......................\n",
      "validateLabelElement() attribute_name:  obj3_heading\n",
      "attr_label:  0.07757912446900533\n",
      "correspondence:  [0, 1, 2, 3, 4, 5]\n",
      ".........................VALID ATTRIBUTE(S):  ['obj3_heading'].......................\n",
      ".........................validating :  ['obj4_position'].......................\n",
      "validateLabelElement() attribute_name:  obj4_position\n",
      "attr_label:  (207.10362890820835 @ 22.109648908620958)\n",
      "correspondence:  [0, 1, 2, 3, 4, 5]\n",
      ".........................VALID ATTRIBUTE(S):  ['obj4_position'].......................\n",
      ".........................validating :  ['obj4_heading'].......................\n",
      "validateLabelElement() attribute_name:  obj4_heading\n",
      "attr_label:  0.01167797486102029\n",
      "correspondence:  [0, 1, 2, 3, 4, 5]\n",
      ".........................VALID ATTRIBUTE(S):  ['obj4_heading'].......................\n",
      ".........................validating :  ['obj5_position'].......................\n",
      "validateLabelElement() attribute_name:  obj5_position\n",
      "attr_label:  (204.29256331637814 @ 22.076819862938557)\n",
      "correspondence:  [0, 1, 2, 3, 4, 5]\n",
      ".........................VALID ATTRIBUTE(S):  ['obj5_position'].......................\n",
      ".........................validating :  ['obj5_heading'].......................\n",
      "validateLabelElement() attribute_name:  obj5_heading\n",
      "attr_label:  0.011677974861024953\n",
      "correspondence:  [0, 1, 2, 3, 4, 5]\n",
      ".........................VALID ATTRIBUTE(S):  ['obj5_heading'].......................\n",
      ".........................validating :  ['obj6_position'].......................\n",
      "validateLabelElement() attribute_name:  obj6_position\n",
      "attr_label:  (210.5502414825688 @ 22.14990019339427)\n",
      "correspondence:  [0, 1, 2, 3, 4, 5]\n",
      "INVALD LABEL -- NON-VALID ATTRIBUTES:  ['obj6_position']\n",
      "LABEL NOT VALID: \n",
      "LABEL VALID :  0\n",
      "# of tried samples:  1\n",
      "number of Valid labels:  0\n",
      "# of tried samples:  1\n",
      "time_measurements:  []\n"
     ]
    },
    {
     "ename": "ZeroDivisionError",
     "evalue": "division by zero",
     "output_type": "error",
     "traceback": [
      "\u001b[0;31m---------------------------------------------------------------------------\u001b[0m",
      "\u001b[0;31mZeroDivisionError\u001b[0m                         Traceback (most recent call last)",
      "\u001b[0;32m<ipython-input-1-c581f395e8d8>\u001b[0m in \u001b[0;36m<module>\u001b[0;34m\u001b[0m\n\u001b[1;32m     62\u001b[0m \u001b[0mprint\u001b[0m\u001b[0;34m(\u001b[0m\u001b[0;34m\"time_measurements: \"\u001b[0m\u001b[0;34m,\u001b[0m \u001b[0mtime_measurements\u001b[0m\u001b[0;34m)\u001b[0m\u001b[0;34m\u001b[0m\u001b[0;34m\u001b[0m\u001b[0m\n\u001b[1;32m     63\u001b[0m \u001b[0;34m\u001b[0m\u001b[0m\n\u001b[0;32m---> 64\u001b[0;31m \u001b[0mavg\u001b[0m \u001b[0;34m=\u001b[0m \u001b[0msum\u001b[0m\u001b[0;34m(\u001b[0m\u001b[0mtime_measurements\u001b[0m\u001b[0;34m)\u001b[0m\u001b[0;34m/\u001b[0m\u001b[0mlen\u001b[0m\u001b[0;34m(\u001b[0m\u001b[0mtime_measurements\u001b[0m\u001b[0;34m)\u001b[0m\u001b[0;34m\u001b[0m\u001b[0;34m\u001b[0m\u001b[0m\n\u001b[0m\u001b[1;32m     65\u001b[0m \u001b[0mvar\u001b[0m \u001b[0;34m=\u001b[0m \u001b[0msum\u001b[0m\u001b[0;34m(\u001b[0m\u001b[0;34m[\u001b[0m\u001b[0mmath\u001b[0m\u001b[0;34m.\u001b[0m\u001b[0mpow\u001b[0m\u001b[0;34m(\u001b[0m\u001b[0mx\u001b[0m\u001b[0;34m-\u001b[0m\u001b[0mavg\u001b[0m\u001b[0;34m,\u001b[0m\u001b[0;36m2\u001b[0m\u001b[0;34m)\u001b[0m \u001b[0;32mfor\u001b[0m \u001b[0mx\u001b[0m \u001b[0;32min\u001b[0m \u001b[0mtime_measurements\u001b[0m\u001b[0;34m]\u001b[0m\u001b[0;34m)\u001b[0m\u001b[0;34m/\u001b[0m\u001b[0;34m(\u001b[0m\u001b[0mlen\u001b[0m\u001b[0;34m(\u001b[0m\u001b[0mtime_measurements\u001b[0m\u001b[0;34m)\u001b[0m\u001b[0;34m-\u001b[0m\u001b[0;36m1\u001b[0m\u001b[0;34m)\u001b[0m\u001b[0;34m\u001b[0m\u001b[0;34m\u001b[0m\u001b[0m\n\u001b[1;32m     66\u001b[0m \u001b[0mstd\u001b[0m \u001b[0;34m=\u001b[0m \u001b[0mmath\u001b[0m\u001b[0;34m.\u001b[0m\u001b[0msqrt\u001b[0m\u001b[0;34m(\u001b[0m\u001b[0mvar\u001b[0m\u001b[0;34m)\u001b[0m\u001b[0;34m\u001b[0m\u001b[0;34m\u001b[0m\u001b[0m\n",
      "\u001b[0;31mZeroDivisionError\u001b[0m: division by zero"
     ]
    }
   ],
   "source": [
    "from scenic_query import *\n",
    "import scenic\n",
    "import time\n",
    "\n",
    "def runExperiment(scenario, numTest, monolithic_translation=False, shuffle=False, debug=False):\n",
    "    outputDict = queryLabelSetup(scenario,  smt_file_path='./test_smt_encoding.smt2', \\\n",
    "                                 attributeList = ['position', 'heading'],dataType = 'carla',\\\n",
    "                                 monolithic_translation=monolithic_translation)\n",
    "    errorBound = {}\n",
    "    errorBound['x'] = 0 # meters == radius of the error margin ball around x\n",
    "    errorBound['y'] = 0 # meters == radius of the error margin ball around y\n",
    "    errorBound['heading'] = 0 # radians = 10 degrees\n",
    "    # print(\"sortedDependencyList: \", outputDict['sortedDependencyList'])\n",
    "    \n",
    "    generatedScenicLabels = []\n",
    "    time_measurements = []\n",
    "    \n",
    "    count = 0\n",
    "    num_valid = 0\n",
    "    label = None\n",
    "    for i in range(numTest):\n",
    "        count += 1\n",
    "        unconditionAllAttributes(scenario)\n",
    "        # print(\".......... sampling a new scene from the scenic program ..........\")\n",
    "        # scenic_label, _ = scenario.generateForQuery(maxIterations=2000, verbosity=0)\n",
    "        # print(\"label sampled --> convert to scenic label\")\n",
    "        # label = convertScenicLabel(scenic_label, shuffle)\n",
    "        label = {'EgoCar': {'position': (207.26, 8.72), 'heading': 0.01167797486102029}, 'Vehicles': [{'position': (207.18578761887326, 15.074612713734233), 'heading': 0.01167797486102029}, {'position': (204.21070731015672, 15.039868221237322), 'heading': 0.011677974861024953}, {'position': (210.60496379589102, 15.114543582383375), 'heading': 0.07757912446900533}, {'position': (207.10362890820835, 22.109648908620958), 'heading': 0.01167797486102029}, {'position': (204.29256331637814, 22.076819862938557), 'heading': 0.011677974861024953}, {'position': (210.5502414825688, 22.14990019339427), 'heading': 0.030285594938917432}], 'Pedestrians': [], 'Objects': []}\n",
    "        generatedScenicLabels.append(label)\n",
    "        print(\"sampled label: \", label)\n",
    "        scenic_testing = not shuffle\n",
    "        \n",
    "        current_time = time.time()\n",
    "        objCountMatched, valid = queryLabel(scenario, label, outputDict, errorBound, ego_visibleDistance=200, dataType='carla', debug=debug, \\\n",
    "                          monolithic_translation=monolithic_translation, scenic_testing=scenic_testing)\n",
    "                \n",
    "        query_runtime = time.time()-current_time\n",
    "        \n",
    "        if not valid:\n",
    "            print(\"LABEL NOT VALID: \")\n",
    "            print(\"LABEL VALID : \", num_valid)\n",
    "            print(\"# of tried samples: \", count)\n",
    "#             return False, generatedScenicLabels, time_measurements\n",
    "        else:\n",
    "            num_valid += 1 \n",
    "            time_measurements.append(query_runtime)\n",
    "            if num_valid >= 10:\n",
    "                break\n",
    "            print(\"# of tried samples: \", count)\n",
    "            print(\"LABEL VALID : \", num_valid)\n",
    "            print(\"query_runtime: \", query_runtime)\n",
    "        \n",
    "    return count, generatedScenicLabels, time_measurements\n",
    "\n",
    "scenic_script = \"./examples/carla/scalability/scalability1_5.scenic\"\n",
    "scenario = scenic.scenarioFromFile(scenic_script)\n",
    "\n",
    "count, generatedScenicLabels, time_measurements = runExperiment(scenario, numTest=1, monolithic_translation=False, \n",
    "                                                                shuffle=False, debug=False)\n",
    "print(\"number of Valid labels: \", len(time_measurements))\n",
    "print(\"# of tried samples: \", count)\n",
    "print(\"time_measurements: \", time_measurements)\n",
    "\n",
    "avg = sum(time_measurements)/len(time_measurements)\n",
    "var = sum([math.pow(x-avg,2) for x in time_measurements])/(len(time_measurements)-1)\n",
    "std = math.sqrt(var)\n",
    "\n",
    "print(\"average runtime: \", avg)\n",
    "print(\"standard deviation: \", std)"
   ]
  },
  {
   "cell_type": "code",
   "execution_count": 2,
   "metadata": {},
   "outputs": [],
   "source": [
    "import scenic\n",
    "scenic_script = \"./examples/carla/scalability/scalability1_5.scenic\"\n",
    "scenario = scenic.scenarioFromFile(scenic_script)\n",
    "# scenic_label, _ = scenario.generateForQuery(maxIterations=2000, verbosity=0)"
   ]
  },
  {
   "cell_type": "code",
   "execution_count": 3,
   "metadata": {},
   "outputs": [
    {
     "name": "stdout",
     "output_type": "stream",
     "text": [
      "(207.26 @ 8.72).offsetRotated(0.01167797486102029, (0 @ Range(4.0, 5.0).__radd__(2.25))).offsetRotated(0.01167797486102029, (0 @ Range(4.0, 5.0).__radd__(2.25))).offsetRotated(0.01167797486102029, (Normal(3.0, 0.1).__radd__(0.5) @ 0))\n"
     ]
    }
   ],
   "source": [
    "print(scenario.objects[6].position)"
   ]
  },
  {
   "cell_type": "code",
   "execution_count": 5,
   "metadata": {
    "scrolled": true
   },
   "outputs": [
    {
     "name": "stdout",
     "output_type": "stream",
     "text": [
      "sampled label:  {'EgoCar': {'position': (207.26, 8.72), 'heading': 0.01167797486102029}, 'Vehicles': [{'position': (207.18578761887326, 15.074612713734233), 'heading': 0.01167797486102029}, {'position': (204.21070731015672, 15.039868221237322), 'heading': 0.011677974861024953}, {'position': (210.60496379589102, 15.114543582383375), 'heading': 0.07757912446900533}, {'position': (207.10362890820835, 22.109648908620958), 'heading': 0.01167797486102029}, {'position': (204.29256331637814, 22.076819862938557), 'heading': 0.011677974861024953}, {'position': (210.5502414825688, 22.14990019339427), 'heading': 0.030285594938917432}], 'Pedestrians': [], 'Objects': []}\n",
      ".........................validating :  ['obj0_position'].......................\n",
      "validateLabelElement() attribute_name:  obj0_position\n",
      "attr_label:  (207.26 @ 8.72)\n",
      "correspondence:  [0, 1, 2, 3, 4, 5]\n",
      ".........................VALID ATTRIBUTE(S):  ['obj0_position'].......................\n",
      ".........................validating :  ['obj0_heading'].......................\n",
      "validateLabelElement() attribute_name:  obj0_heading\n",
      "attr_label:  0.01167797486102029\n",
      "correspondence:  [0, 1, 2, 3, 4, 5]\n",
      ".........................VALID ATTRIBUTE(S):  ['obj0_heading'].......................\n",
      ".........................validating :  ['obj1_position'].......................\n",
      "validateLabelElement() attribute_name:  obj1_position\n",
      "attr_label:  (207.18578761887326 @ 15.074612713734233)\n",
      "correspondence:  [0, 1, 2, 3, 4, 5]\n",
      ".........................VALID ATTRIBUTE(S):  ['obj1_position'].......................\n",
      ".........................validating :  ['obj1_heading'].......................\n",
      "validateLabelElement() attribute_name:  obj1_heading\n",
      "attr_label:  0.01167797486102029\n",
      "correspondence:  [0, 1, 2, 3, 4, 5]\n",
      ".........................VALID ATTRIBUTE(S):  ['obj1_heading'].......................\n",
      ".........................validating :  ['obj2_position'].......................\n",
      "validateLabelElement() attribute_name:  obj2_position\n",
      "attr_label:  (204.21070731015672 @ 15.039868221237322)\n",
      "correspondence:  [0, 1, 2, 3, 4, 5]\n",
      ".........................VALID ATTRIBUTE(S):  ['obj2_position'].......................\n",
      ".........................validating :  ['obj2_heading'].......................\n",
      "validateLabelElement() attribute_name:  obj2_heading\n",
      "attr_label:  0.011677974861024953\n",
      "correspondence:  [0, 1, 2, 3, 4, 5]\n",
      ".........................VALID ATTRIBUTE(S):  ['obj2_heading'].......................\n",
      ".........................validating :  ['obj3_position'].......................\n",
      "validateLabelElement() attribute_name:  obj3_position\n",
      "attr_label:  (210.60496379589102 @ 15.114543582383375)\n",
      "correspondence:  [0, 1, 2, 3, 4, 5]\n",
      ".........................VALID ATTRIBUTE(S):  ['obj3_position'].......................\n",
      ".........................validating :  ['obj3_heading'].......................\n",
      "validateLabelElement() attribute_name:  obj3_heading\n",
      "attr_label:  0.07757912446900533\n",
      "correspondence:  [0, 1, 2, 3, 4, 5]\n",
      ".........................VALID ATTRIBUTE(S):  ['obj3_heading'].......................\n",
      ".........................validating :  ['obj4_position'].......................\n",
      "validateLabelElement() attribute_name:  obj4_position\n",
      "attr_label:  (207.10362890820835 @ 22.109648908620958)\n",
      "correspondence:  [0, 1, 2, 3, 4, 5]\n",
      ".........................VALID ATTRIBUTE(S):  ['obj4_position'].......................\n",
      ".........................validating :  ['obj4_heading'].......................\n",
      "validateLabelElement() attribute_name:  obj4_heading\n",
      "attr_label:  0.01167797486102029\n",
      "correspondence:  [0, 1, 2, 3, 4, 5]\n",
      ".........................VALID ATTRIBUTE(S):  ['obj4_heading'].......................\n",
      ".........................validating :  ['obj5_position'].......................\n",
      "validateLabelElement() attribute_name:  obj5_position\n",
      "attr_label:  (204.29256331637814 @ 22.076819862938557)\n",
      "correspondence:  [0, 1, 2, 3, 4, 5]\n",
      ".........................VALID ATTRIBUTE(S):  ['obj5_position'].......................\n",
      ".........................validating :  ['obj5_heading'].......................\n",
      "validateLabelElement() attribute_name:  obj5_heading\n",
      "attr_label:  0.011677974861024953\n",
      "correspondence:  [0, 1, 2, 3, 4, 5]\n",
      ".........................VALID ATTRIBUTE(S):  ['obj5_heading'].......................\n",
      ".........................validating :  ['obj6_position'].......................\n",
      "validateLabelElement() attribute_name:  obj6_position\n",
      "attr_label:  (210.5502414825688 @ 22.14990019339427)\n",
      "correspondence:  [0, 1, 2, 3, 4, 5]\n",
      "INVALD LABEL -- NON-VALID ATTRIBUTES:  ['obj6_position']\n"
     ]
    }
   ],
   "source": [
    "outputDict = queryLabelSetup(scenario,  smt_file_path='./test_smt_encoding.smt2', \\\n",
    "                                 attributeList = ['position', 'heading'],dataType = 'carla',\\\n",
    "                                 monolithic_translation=False)\n",
    "errorBound = {}\n",
    "errorBound['x'] = 0 # meters == radius of the error margin ball around x\n",
    "errorBound['y'] = 0 # meters == radius of the error margin ball around y\n",
    "errorBound['heading'] = 0 # radians = 10 degrees\n",
    "\n",
    "unconditionAllAttributes(scenario)\n",
    "label = {'EgoCar': {'position': (207.26, 8.72), 'heading': 0.01167797486102029}, 'Vehicles': [{'position': (207.18578761887326, 15.074612713734233), 'heading': 0.01167797486102029}, {'position': (204.21070731015672, 15.039868221237322), 'heading': 0.011677974861024953}, {'position': (210.60496379589102, 15.114543582383375), 'heading': 0.07757912446900533}, {'position': (207.10362890820835, 22.109648908620958), 'heading': 0.01167797486102029}, {'position': (204.29256331637814, 22.076819862938557), 'heading': 0.011677974861024953}, {'position': (210.5502414825688, 22.14990019339427), 'heading': 0.030285594938917432}], 'Pedestrians': [], 'Objects': []}\n",
    "generatedScenicLabels.append(label)\n",
    "print(\"sampled label: \", label)\n",
    "\n",
    "objCountMatched, valid = queryLabel(scenario, label, outputDict, errorBound, ego_visibleDistance=200, dataType='carla', debug=False, \\\n",
    "                  monolithic_translation=False, scenic_testing=True)\n",
    "\n"
   ]
  },
  {
   "cell_type": "code",
   "execution_count": 15,
   "metadata": {},
   "outputs": [
    {
     "name": "stdout",
     "output_type": "stream",
     "text": [
      "(207.10362890820835 @ 22.109648908620958)\n"
     ]
    }
   ],
   "source": [
    "print(scenario.objects[6].position._dependencies[0]._conditioned)"
   ]
  },
  {
   "cell_type": "code",
   "execution_count": null,
   "metadata": {},
   "outputs": [],
   "source": []
  }
 ],
 "metadata": {
  "kernelspec": {
   "display_name": "Python 3",
   "language": "python",
   "name": "python3"
  },
  "language_info": {
   "codemirror_mode": {
    "name": "ipython",
    "version": 3
   },
   "file_extension": ".py",
   "mimetype": "text/x-python",
   "name": "python",
   "nbconvert_exporter": "python",
   "pygments_lexer": "ipython3",
   "version": "3.8.2"
  }
 },
 "nbformat": 4,
 "nbformat_minor": 4
}
